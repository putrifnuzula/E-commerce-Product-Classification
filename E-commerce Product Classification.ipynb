{
 "cells": [
  {
   "cell_type": "markdown",
   "metadata": {
    "id": "qV4LOfzG7aZw"
   },
   "source": [
    "Nama: Putri Fatiha Nuzula\n",
    "\n",
    "NIM: 2602193042\n",
    "\n",
    "Kelas: LC09"
   ]
  },
  {
   "cell_type": "code",
   "execution_count": null,
   "metadata": {
    "colab": {
     "base_uri": "https://localhost:8080/"
    },
    "id": "K1juUsLY99Od",
    "outputId": "8e5bb9fc-b0dd-412e-c950-c608aad0643a"
   },
   "outputs": [
    {
     "name": "stderr",
     "output_type": "stream",
     "text": [
      "[nltk_data] Downloading package punkt to /root/nltk_data...\n",
      "[nltk_data]   Unzipping tokenizers/punkt.zip.\n",
      "[nltk_data] Downloading package stopwords to /root/nltk_data...\n",
      "[nltk_data]   Unzipping corpora/stopwords.zip.\n"
     ]
    }
   ],
   "source": [
    "import pandas as pd\n",
    "import numpy as np\n",
    "\n",
    "import re\n",
    "import nltk\n",
    "nltk.download('punkt')\n",
    "from nltk.tokenize import word_tokenize\n",
    "from nltk.corpus import stopwords\n",
    "nltk.download('stopwords')\n",
    "\n",
    "from sklearn.model_selection import train_test_split\n",
    "from sklearn.metrics import accuracy_score, precision_score, recall_score, f1_score\n",
    "from sklearn.metrics import classification_report, confusion_matrix\n",
    "from sklearn import svm\n",
    "from sklearn.ensemble import RandomForestClassifier\n",
    "from sklearn.model_selection import GridSearchCV\n",
    "\n",
    "\n",
    "from sklearn.feature_extraction.text import TfidfVectorizer"
   ]
  },
  {
   "cell_type": "markdown",
   "metadata": {
    "id": "TZT_ON6U9sJC"
   },
   "source": [
    "## 2.a"
   ]
  },
  {
   "cell_type": "code",
   "execution_count": null,
   "metadata": {
    "id": "o90FALcz9WrJ"
   },
   "outputs": [],
   "source": [
    "df = pd.read_csv('data_1D.csv')"
   ]
  },
  {
   "cell_type": "code",
   "execution_count": null,
   "metadata": {
    "colab": {
     "base_uri": "https://localhost:8080/",
     "height": 206
    },
    "id": "Vcc6LuLz-IP6",
    "outputId": "bf18d593-2e03-40a9-b5de-25d50a600111"
   },
   "outputs": [
    {
     "data": {
      "application/vnd.google.colaboratory.intrinsic+json": {
       "summary": "{\n  \"name\": \"df\",\n  \"rows\": 12606,\n  \"fields\": [\n    {\n      \"column\": \"Unnamed: 0\",\n      \"properties\": {\n        \"dtype\": \"number\",\n        \"std\": 3639,\n        \"min\": 0,\n        \"max\": 12605,\n        \"num_unique_values\": 12606,\n        \"samples\": [\n          8466,\n          1399,\n          4635\n        ],\n        \"semantic_type\": \"\",\n        \"description\": \"\"\n      }\n    },\n    {\n      \"column\": \"text\",\n      \"properties\": {\n        \"dtype\": \"string\",\n        \"num_unique_values\": 10454,\n        \"samples\": [\n          \"Envie ECR 20 + 4xAA 2800mAh Battery Charger with Rechargeable Battery Set (White) Beetle charger can charge 2/4 pieces AA/AAA Ni-MH/ Ni-Cd rechargeable batteries, output current 240 mA for AA/AAA. Use it between temperature 0 degree Celsius - 35 degree Celsius. Prevent from reverse polarity. Envie Rechargeable AA 2800mAh battery - The set of batteries have a current rating of 2800mAh. These batteries have Ni-MH (Nickel-Metal Hydride) electrodes to provide you with a safe and stable environment. The batteries are rechargeable and allow you to use them multiple times. The AA Sized battery is compatible with a large number of devices including remote controls, electronic toys, cameras, flashlights, torches and various other devices.\",\n          \"A Survival Guide for Life\",\n          \"ASkyl 90X Zoom Land and Sky View Telescope (Silver) Telescope is not only for sky use, but also for terrestrial use, weather you travel or stay at home. Specification: Model: af36050 upgrade Optical system: refractorMagnification: 18x, 27x, 60x, 90x (6mm eyepiece + magnification = 60x, 6mm eyepiece + magnification with 1.5x erecting eyepiece = 90x; 20mm eyepiece +Magnification = 18x, 20mm eyepiece + magnification with 1.5x erecting eyepiece = 27x)Aperture: 50mm/2.0 inchFocal length: 360mmDiagonal prisms: 90 degree angle prismEyepiece: 2 pieces Clear views Fully multi-coated optics glass lens reaches 99.5% transmittance. It has clear imaging effect and stirring visual effect. H20mm, h6mm, 1.5x erecting eyepiece help you could see things from different distances and sizes objects. This astronomical telescope is a specially designed for students, beginners, kids, teens, entry- level amateur astronomers. H20mm, terrestrial use Main tube + angle prism+ h20mm H6mm, astronomical use 1. Insert the moon lens into the eyepiece h6mm and then screw it 2. Main tube + angle prism+ h20mm Increase the magnification of image 1. Main tube + 1.5x erecting eyepiece+ h20mm/ h6mm Package include: Telescope x 1H20mm eyepiece x 1H6mm eyepiece x 1Moon lens x 11.5x erecting eyepiece x 113.5 inch height aluminium tripod x 1 cary caseInstruction manual x 1 Warm tips: Do not observe the sun directly through the telescope.The telescope could be enhanced by changing the magnification.It is not able to seize the vision if the star in a far distance.The view of scenery is normal applicable.\"\n        ],\n        \"semantic_type\": \"\",\n        \"description\": \"\"\n      }\n    },\n    {\n      \"column\": \"label\",\n      \"properties\": {\n        \"dtype\": \"category\",\n        \"num_unique_values\": 4,\n        \"samples\": [\n          \"Clothing & Accessories\",\n          \"Household\",\n          \"Electronics\"\n        ],\n        \"semantic_type\": \"\",\n        \"description\": \"\"\n      }\n    }\n  ]\n}",
       "type": "dataframe",
       "variable_name": "df"
      },
      "text/html": [
       "\n",
       "  <div id=\"df-09f9fd27-fa7a-4220-8c69-0e8422183586\" class=\"colab-df-container\">\n",
       "    <div>\n",
       "<style scoped>\n",
       "    .dataframe tbody tr th:only-of-type {\n",
       "        vertical-align: middle;\n",
       "    }\n",
       "\n",
       "    .dataframe tbody tr th {\n",
       "        vertical-align: top;\n",
       "    }\n",
       "\n",
       "    .dataframe thead th {\n",
       "        text-align: right;\n",
       "    }\n",
       "</style>\n",
       "<table border=\"1\" class=\"dataframe\">\n",
       "  <thead>\n",
       "    <tr style=\"text-align: right;\">\n",
       "      <th></th>\n",
       "      <th>Unnamed: 0</th>\n",
       "      <th>text</th>\n",
       "      <th>label</th>\n",
       "    </tr>\n",
       "  </thead>\n",
       "  <tbody>\n",
       "    <tr>\n",
       "      <th>0</th>\n",
       "      <td>0</td>\n",
       "      <td>Tamron AF 70-300mm F/4.0-5.6 Di LD Macro Telep...</td>\n",
       "      <td>Electronics</td>\n",
       "    </tr>\n",
       "    <tr>\n",
       "      <th>1</th>\n",
       "      <td>1</td>\n",
       "      <td>Softline Butterfly Women's Cotton Camisole</td>\n",
       "      <td>Clothing &amp; Accessories</td>\n",
       "    </tr>\n",
       "    <tr>\n",
       "      <th>2</th>\n",
       "      <td>2</td>\n",
       "      <td>Indian Economy: For UPSC Civil Services &amp; Othe...</td>\n",
       "      <td>Books</td>\n",
       "    </tr>\n",
       "    <tr>\n",
       "      <th>3</th>\n",
       "      <td>3</td>\n",
       "      <td>Fujifilm X-T3 Mirrorless Digital Camera with X...</td>\n",
       "      <td>Electronics</td>\n",
       "    </tr>\n",
       "    <tr>\n",
       "      <th>4</th>\n",
       "      <td>4</td>\n",
       "      <td>Barata Formal Ties For Men, Navy Blue Tie Form...</td>\n",
       "      <td>Clothing &amp; Accessories</td>\n",
       "    </tr>\n",
       "  </tbody>\n",
       "</table>\n",
       "</div>\n",
       "    <div class=\"colab-df-buttons\">\n",
       "\n",
       "  <div class=\"colab-df-container\">\n",
       "    <button class=\"colab-df-convert\" onclick=\"convertToInteractive('df-09f9fd27-fa7a-4220-8c69-0e8422183586')\"\n",
       "            title=\"Convert this dataframe to an interactive table.\"\n",
       "            style=\"display:none;\">\n",
       "\n",
       "  <svg xmlns=\"http://www.w3.org/2000/svg\" height=\"24px\" viewBox=\"0 -960 960 960\">\n",
       "    <path d=\"M120-120v-720h720v720H120Zm60-500h600v-160H180v160Zm220 220h160v-160H400v160Zm0 220h160v-160H400v160ZM180-400h160v-160H180v160Zm440 0h160v-160H620v160ZM180-180h160v-160H180v160Zm440 0h160v-160H620v160Z\"/>\n",
       "  </svg>\n",
       "    </button>\n",
       "\n",
       "  <style>\n",
       "    .colab-df-container {\n",
       "      display:flex;\n",
       "      gap: 12px;\n",
       "    }\n",
       "\n",
       "    .colab-df-convert {\n",
       "      background-color: #E8F0FE;\n",
       "      border: none;\n",
       "      border-radius: 50%;\n",
       "      cursor: pointer;\n",
       "      display: none;\n",
       "      fill: #1967D2;\n",
       "      height: 32px;\n",
       "      padding: 0 0 0 0;\n",
       "      width: 32px;\n",
       "    }\n",
       "\n",
       "    .colab-df-convert:hover {\n",
       "      background-color: #E2EBFA;\n",
       "      box-shadow: 0px 1px 2px rgba(60, 64, 67, 0.3), 0px 1px 3px 1px rgba(60, 64, 67, 0.15);\n",
       "      fill: #174EA6;\n",
       "    }\n",
       "\n",
       "    .colab-df-buttons div {\n",
       "      margin-bottom: 4px;\n",
       "    }\n",
       "\n",
       "    [theme=dark] .colab-df-convert {\n",
       "      background-color: #3B4455;\n",
       "      fill: #D2E3FC;\n",
       "    }\n",
       "\n",
       "    [theme=dark] .colab-df-convert:hover {\n",
       "      background-color: #434B5C;\n",
       "      box-shadow: 0px 1px 3px 1px rgba(0, 0, 0, 0.15);\n",
       "      filter: drop-shadow(0px 1px 2px rgba(0, 0, 0, 0.3));\n",
       "      fill: #FFFFFF;\n",
       "    }\n",
       "  </style>\n",
       "\n",
       "    <script>\n",
       "      const buttonEl =\n",
       "        document.querySelector('#df-09f9fd27-fa7a-4220-8c69-0e8422183586 button.colab-df-convert');\n",
       "      buttonEl.style.display =\n",
       "        google.colab.kernel.accessAllowed ? 'block' : 'none';\n",
       "\n",
       "      async function convertToInteractive(key) {\n",
       "        const element = document.querySelector('#df-09f9fd27-fa7a-4220-8c69-0e8422183586');\n",
       "        const dataTable =\n",
       "          await google.colab.kernel.invokeFunction('convertToInteractive',\n",
       "                                                    [key], {});\n",
       "        if (!dataTable) return;\n",
       "\n",
       "        const docLinkHtml = 'Like what you see? Visit the ' +\n",
       "          '<a target=\"_blank\" href=https://colab.research.google.com/notebooks/data_table.ipynb>data table notebook</a>'\n",
       "          + ' to learn more about interactive tables.';\n",
       "        element.innerHTML = '';\n",
       "        dataTable['output_type'] = 'display_data';\n",
       "        await google.colab.output.renderOutput(dataTable, element);\n",
       "        const docLink = document.createElement('div');\n",
       "        docLink.innerHTML = docLinkHtml;\n",
       "        element.appendChild(docLink);\n",
       "      }\n",
       "    </script>\n",
       "  </div>\n",
       "\n",
       "\n",
       "<div id=\"df-226018db-f0c2-4179-a556-029b29e9028d\">\n",
       "  <button class=\"colab-df-quickchart\" onclick=\"quickchart('df-226018db-f0c2-4179-a556-029b29e9028d')\"\n",
       "            title=\"Suggest charts\"\n",
       "            style=\"display:none;\">\n",
       "\n",
       "<svg xmlns=\"http://www.w3.org/2000/svg\" height=\"24px\"viewBox=\"0 0 24 24\"\n",
       "     width=\"24px\">\n",
       "    <g>\n",
       "        <path d=\"M19 3H5c-1.1 0-2 .9-2 2v14c0 1.1.9 2 2 2h14c1.1 0 2-.9 2-2V5c0-1.1-.9-2-2-2zM9 17H7v-7h2v7zm4 0h-2V7h2v10zm4 0h-2v-4h2v4z\"/>\n",
       "    </g>\n",
       "</svg>\n",
       "  </button>\n",
       "\n",
       "<style>\n",
       "  .colab-df-quickchart {\n",
       "      --bg-color: #E8F0FE;\n",
       "      --fill-color: #1967D2;\n",
       "      --hover-bg-color: #E2EBFA;\n",
       "      --hover-fill-color: #174EA6;\n",
       "      --disabled-fill-color: #AAA;\n",
       "      --disabled-bg-color: #DDD;\n",
       "  }\n",
       "\n",
       "  [theme=dark] .colab-df-quickchart {\n",
       "      --bg-color: #3B4455;\n",
       "      --fill-color: #D2E3FC;\n",
       "      --hover-bg-color: #434B5C;\n",
       "      --hover-fill-color: #FFFFFF;\n",
       "      --disabled-bg-color: #3B4455;\n",
       "      --disabled-fill-color: #666;\n",
       "  }\n",
       "\n",
       "  .colab-df-quickchart {\n",
       "    background-color: var(--bg-color);\n",
       "    border: none;\n",
       "    border-radius: 50%;\n",
       "    cursor: pointer;\n",
       "    display: none;\n",
       "    fill: var(--fill-color);\n",
       "    height: 32px;\n",
       "    padding: 0;\n",
       "    width: 32px;\n",
       "  }\n",
       "\n",
       "  .colab-df-quickchart:hover {\n",
       "    background-color: var(--hover-bg-color);\n",
       "    box-shadow: 0 1px 2px rgba(60, 64, 67, 0.3), 0 1px 3px 1px rgba(60, 64, 67, 0.15);\n",
       "    fill: var(--button-hover-fill-color);\n",
       "  }\n",
       "\n",
       "  .colab-df-quickchart-complete:disabled,\n",
       "  .colab-df-quickchart-complete:disabled:hover {\n",
       "    background-color: var(--disabled-bg-color);\n",
       "    fill: var(--disabled-fill-color);\n",
       "    box-shadow: none;\n",
       "  }\n",
       "\n",
       "  .colab-df-spinner {\n",
       "    border: 2px solid var(--fill-color);\n",
       "    border-color: transparent;\n",
       "    border-bottom-color: var(--fill-color);\n",
       "    animation:\n",
       "      spin 1s steps(1) infinite;\n",
       "  }\n",
       "\n",
       "  @keyframes spin {\n",
       "    0% {\n",
       "      border-color: transparent;\n",
       "      border-bottom-color: var(--fill-color);\n",
       "      border-left-color: var(--fill-color);\n",
       "    }\n",
       "    20% {\n",
       "      border-color: transparent;\n",
       "      border-left-color: var(--fill-color);\n",
       "      border-top-color: var(--fill-color);\n",
       "    }\n",
       "    30% {\n",
       "      border-color: transparent;\n",
       "      border-left-color: var(--fill-color);\n",
       "      border-top-color: var(--fill-color);\n",
       "      border-right-color: var(--fill-color);\n",
       "    }\n",
       "    40% {\n",
       "      border-color: transparent;\n",
       "      border-right-color: var(--fill-color);\n",
       "      border-top-color: var(--fill-color);\n",
       "    }\n",
       "    60% {\n",
       "      border-color: transparent;\n",
       "      border-right-color: var(--fill-color);\n",
       "    }\n",
       "    80% {\n",
       "      border-color: transparent;\n",
       "      border-right-color: var(--fill-color);\n",
       "      border-bottom-color: var(--fill-color);\n",
       "    }\n",
       "    90% {\n",
       "      border-color: transparent;\n",
       "      border-bottom-color: var(--fill-color);\n",
       "    }\n",
       "  }\n",
       "</style>\n",
       "\n",
       "  <script>\n",
       "    async function quickchart(key) {\n",
       "      const quickchartButtonEl =\n",
       "        document.querySelector('#' + key + ' button');\n",
       "      quickchartButtonEl.disabled = true;  // To prevent multiple clicks.\n",
       "      quickchartButtonEl.classList.add('colab-df-spinner');\n",
       "      try {\n",
       "        const charts = await google.colab.kernel.invokeFunction(\n",
       "            'suggestCharts', [key], {});\n",
       "      } catch (error) {\n",
       "        console.error('Error during call to suggestCharts:', error);\n",
       "      }\n",
       "      quickchartButtonEl.classList.remove('colab-df-spinner');\n",
       "      quickchartButtonEl.classList.add('colab-df-quickchart-complete');\n",
       "    }\n",
       "    (() => {\n",
       "      let quickchartButtonEl =\n",
       "        document.querySelector('#df-226018db-f0c2-4179-a556-029b29e9028d button');\n",
       "      quickchartButtonEl.style.display =\n",
       "        google.colab.kernel.accessAllowed ? 'block' : 'none';\n",
       "    })();\n",
       "  </script>\n",
       "</div>\n",
       "\n",
       "    </div>\n",
       "  </div>\n"
      ],
      "text/plain": [
       "   Unnamed: 0                                               text  \\\n",
       "0           0  Tamron AF 70-300mm F/4.0-5.6 Di LD Macro Telep...   \n",
       "1           1         Softline Butterfly Women's Cotton Camisole   \n",
       "2           2  Indian Economy: For UPSC Civil Services & Othe...   \n",
       "3           3  Fujifilm X-T3 Mirrorless Digital Camera with X...   \n",
       "4           4  Barata Formal Ties For Men, Navy Blue Tie Form...   \n",
       "\n",
       "                    label  \n",
       "0             Electronics  \n",
       "1  Clothing & Accessories  \n",
       "2                   Books  \n",
       "3             Electronics  \n",
       "4  Clothing & Accessories  "
      ]
     },
     "execution_count": 3,
     "metadata": {},
     "output_type": "execute_result"
    }
   ],
   "source": [
    "df.head()"
   ]
  },
  {
   "cell_type": "code",
   "execution_count": null,
   "metadata": {
    "colab": {
     "base_uri": "https://localhost:8080/"
    },
    "id": "G2FCAEMzkui2",
    "outputId": "60c65fc6-da5d-417a-c319-9f45d534134d"
   },
   "outputs": [
    {
     "name": "stdout",
     "output_type": "stream",
     "text": [
      "<class 'pandas.core.frame.DataFrame'>\n",
      "RangeIndex: 12606 entries, 0 to 12605\n",
      "Data columns (total 3 columns):\n",
      " #   Column      Non-Null Count  Dtype \n",
      "---  ------      --------------  ----- \n",
      " 0   Unnamed: 0  12606 non-null  int64 \n",
      " 1   text        12606 non-null  object\n",
      " 2   label       12606 non-null  object\n",
      "dtypes: int64(1), object(2)\n",
      "memory usage: 295.6+ KB\n"
     ]
    }
   ],
   "source": [
    "df.info()"
   ]
  },
  {
   "cell_type": "code",
   "execution_count": null,
   "metadata": {
    "id": "zYjvTIgpAteM"
   },
   "outputs": [],
   "source": [
    "df.drop('Unnamed: 0', axis=1, inplace=True) # drop unrelated column"
   ]
  },
  {
   "cell_type": "code",
   "execution_count": null,
   "metadata": {
    "id": "JVs57efwOKFN"
   },
   "outputs": [],
   "source": [
    "# label encode for 'label' column\n",
    "from sklearn import preprocessing\n",
    "label_enc = preprocessing.LabelEncoder()\n",
    "\n",
    "df['label']= label_enc.fit_transform(df['label'])"
   ]
  },
  {
   "cell_type": "code",
   "execution_count": null,
   "metadata": {
    "colab": {
     "base_uri": "https://localhost:8080/",
     "height": 206
    },
    "id": "62xqBkhEOd2t",
    "outputId": "4ecc3d34-d9e4-4baf-93b5-31ab20cf103e"
   },
   "outputs": [
    {
     "data": {
      "application/vnd.google.colaboratory.intrinsic+json": {
       "summary": "{\n  \"name\": \"df\",\n  \"rows\": 12606,\n  \"fields\": [\n    {\n      \"column\": \"text\",\n      \"properties\": {\n        \"dtype\": \"string\",\n        \"num_unique_values\": 10454,\n        \"samples\": [\n          \"Envie ECR 20 + 4xAA 2800mAh Battery Charger with Rechargeable Battery Set (White) Beetle charger can charge 2/4 pieces AA/AAA Ni-MH/ Ni-Cd rechargeable batteries, output current 240 mA for AA/AAA. Use it between temperature 0 degree Celsius - 35 degree Celsius. Prevent from reverse polarity. Envie Rechargeable AA 2800mAh battery - The set of batteries have a current rating of 2800mAh. These batteries have Ni-MH (Nickel-Metal Hydride) electrodes to provide you with a safe and stable environment. The batteries are rechargeable and allow you to use them multiple times. The AA Sized battery is compatible with a large number of devices including remote controls, electronic toys, cameras, flashlights, torches and various other devices.\",\n          \"A Survival Guide for Life\",\n          \"ASkyl 90X Zoom Land and Sky View Telescope (Silver) Telescope is not only for sky use, but also for terrestrial use, weather you travel or stay at home. Specification: Model: af36050 upgrade Optical system: refractorMagnification: 18x, 27x, 60x, 90x (6mm eyepiece + magnification = 60x, 6mm eyepiece + magnification with 1.5x erecting eyepiece = 90x; 20mm eyepiece +Magnification = 18x, 20mm eyepiece + magnification with 1.5x erecting eyepiece = 27x)Aperture: 50mm/2.0 inchFocal length: 360mmDiagonal prisms: 90 degree angle prismEyepiece: 2 pieces Clear views Fully multi-coated optics glass lens reaches 99.5% transmittance. It has clear imaging effect and stirring visual effect. H20mm, h6mm, 1.5x erecting eyepiece help you could see things from different distances and sizes objects. This astronomical telescope is a specially designed for students, beginners, kids, teens, entry- level amateur astronomers. H20mm, terrestrial use Main tube + angle prism+ h20mm H6mm, astronomical use 1. Insert the moon lens into the eyepiece h6mm and then screw it 2. Main tube + angle prism+ h20mm Increase the magnification of image 1. Main tube + 1.5x erecting eyepiece+ h20mm/ h6mm Package include: Telescope x 1H20mm eyepiece x 1H6mm eyepiece x 1Moon lens x 11.5x erecting eyepiece x 113.5 inch height aluminium tripod x 1 cary caseInstruction manual x 1 Warm tips: Do not observe the sun directly through the telescope.The telescope could be enhanced by changing the magnification.It is not able to seize the vision if the star in a far distance.The view of scenery is normal applicable.\"\n        ],\n        \"semantic_type\": \"\",\n        \"description\": \"\"\n      }\n    },\n    {\n      \"column\": \"label\",\n      \"properties\": {\n        \"dtype\": \"number\",\n        \"std\": 1,\n        \"min\": 0,\n        \"max\": 3,\n        \"num_unique_values\": 4,\n        \"samples\": [\n          1,\n          3,\n          2\n        ],\n        \"semantic_type\": \"\",\n        \"description\": \"\"\n      }\n    }\n  ]\n}",
       "type": "dataframe",
       "variable_name": "df"
      },
      "text/html": [
       "\n",
       "  <div id=\"df-263a7aa0-24ab-4874-9d71-0414913d7f0f\" class=\"colab-df-container\">\n",
       "    <div>\n",
       "<style scoped>\n",
       "    .dataframe tbody tr th:only-of-type {\n",
       "        vertical-align: middle;\n",
       "    }\n",
       "\n",
       "    .dataframe tbody tr th {\n",
       "        vertical-align: top;\n",
       "    }\n",
       "\n",
       "    .dataframe thead th {\n",
       "        text-align: right;\n",
       "    }\n",
       "</style>\n",
       "<table border=\"1\" class=\"dataframe\">\n",
       "  <thead>\n",
       "    <tr style=\"text-align: right;\">\n",
       "      <th></th>\n",
       "      <th>text</th>\n",
       "      <th>label</th>\n",
       "    </tr>\n",
       "  </thead>\n",
       "  <tbody>\n",
       "    <tr>\n",
       "      <th>0</th>\n",
       "      <td>Tamron AF 70-300mm F/4.0-5.6 Di LD Macro Telep...</td>\n",
       "      <td>2</td>\n",
       "    </tr>\n",
       "    <tr>\n",
       "      <th>1</th>\n",
       "      <td>Softline Butterfly Women's Cotton Camisole</td>\n",
       "      <td>1</td>\n",
       "    </tr>\n",
       "    <tr>\n",
       "      <th>2</th>\n",
       "      <td>Indian Economy: For UPSC Civil Services &amp; Othe...</td>\n",
       "      <td>0</td>\n",
       "    </tr>\n",
       "    <tr>\n",
       "      <th>3</th>\n",
       "      <td>Fujifilm X-T3 Mirrorless Digital Camera with X...</td>\n",
       "      <td>2</td>\n",
       "    </tr>\n",
       "    <tr>\n",
       "      <th>4</th>\n",
       "      <td>Barata Formal Ties For Men, Navy Blue Tie Form...</td>\n",
       "      <td>1</td>\n",
       "    </tr>\n",
       "  </tbody>\n",
       "</table>\n",
       "</div>\n",
       "    <div class=\"colab-df-buttons\">\n",
       "\n",
       "  <div class=\"colab-df-container\">\n",
       "    <button class=\"colab-df-convert\" onclick=\"convertToInteractive('df-263a7aa0-24ab-4874-9d71-0414913d7f0f')\"\n",
       "            title=\"Convert this dataframe to an interactive table.\"\n",
       "            style=\"display:none;\">\n",
       "\n",
       "  <svg xmlns=\"http://www.w3.org/2000/svg\" height=\"24px\" viewBox=\"0 -960 960 960\">\n",
       "    <path d=\"M120-120v-720h720v720H120Zm60-500h600v-160H180v160Zm220 220h160v-160H400v160Zm0 220h160v-160H400v160ZM180-400h160v-160H180v160Zm440 0h160v-160H620v160ZM180-180h160v-160H180v160Zm440 0h160v-160H620v160Z\"/>\n",
       "  </svg>\n",
       "    </button>\n",
       "\n",
       "  <style>\n",
       "    .colab-df-container {\n",
       "      display:flex;\n",
       "      gap: 12px;\n",
       "    }\n",
       "\n",
       "    .colab-df-convert {\n",
       "      background-color: #E8F0FE;\n",
       "      border: none;\n",
       "      border-radius: 50%;\n",
       "      cursor: pointer;\n",
       "      display: none;\n",
       "      fill: #1967D2;\n",
       "      height: 32px;\n",
       "      padding: 0 0 0 0;\n",
       "      width: 32px;\n",
       "    }\n",
       "\n",
       "    .colab-df-convert:hover {\n",
       "      background-color: #E2EBFA;\n",
       "      box-shadow: 0px 1px 2px rgba(60, 64, 67, 0.3), 0px 1px 3px 1px rgba(60, 64, 67, 0.15);\n",
       "      fill: #174EA6;\n",
       "    }\n",
       "\n",
       "    .colab-df-buttons div {\n",
       "      margin-bottom: 4px;\n",
       "    }\n",
       "\n",
       "    [theme=dark] .colab-df-convert {\n",
       "      background-color: #3B4455;\n",
       "      fill: #D2E3FC;\n",
       "    }\n",
       "\n",
       "    [theme=dark] .colab-df-convert:hover {\n",
       "      background-color: #434B5C;\n",
       "      box-shadow: 0px 1px 3px 1px rgba(0, 0, 0, 0.15);\n",
       "      filter: drop-shadow(0px 1px 2px rgba(0, 0, 0, 0.3));\n",
       "      fill: #FFFFFF;\n",
       "    }\n",
       "  </style>\n",
       "\n",
       "    <script>\n",
       "      const buttonEl =\n",
       "        document.querySelector('#df-263a7aa0-24ab-4874-9d71-0414913d7f0f button.colab-df-convert');\n",
       "      buttonEl.style.display =\n",
       "        google.colab.kernel.accessAllowed ? 'block' : 'none';\n",
       "\n",
       "      async function convertToInteractive(key) {\n",
       "        const element = document.querySelector('#df-263a7aa0-24ab-4874-9d71-0414913d7f0f');\n",
       "        const dataTable =\n",
       "          await google.colab.kernel.invokeFunction('convertToInteractive',\n",
       "                                                    [key], {});\n",
       "        if (!dataTable) return;\n",
       "\n",
       "        const docLinkHtml = 'Like what you see? Visit the ' +\n",
       "          '<a target=\"_blank\" href=https://colab.research.google.com/notebooks/data_table.ipynb>data table notebook</a>'\n",
       "          + ' to learn more about interactive tables.';\n",
       "        element.innerHTML = '';\n",
       "        dataTable['output_type'] = 'display_data';\n",
       "        await google.colab.output.renderOutput(dataTable, element);\n",
       "        const docLink = document.createElement('div');\n",
       "        docLink.innerHTML = docLinkHtml;\n",
       "        element.appendChild(docLink);\n",
       "      }\n",
       "    </script>\n",
       "  </div>\n",
       "\n",
       "\n",
       "<div id=\"df-26569094-3f09-456c-bd0c-65e8e070bc6e\">\n",
       "  <button class=\"colab-df-quickchart\" onclick=\"quickchart('df-26569094-3f09-456c-bd0c-65e8e070bc6e')\"\n",
       "            title=\"Suggest charts\"\n",
       "            style=\"display:none;\">\n",
       "\n",
       "<svg xmlns=\"http://www.w3.org/2000/svg\" height=\"24px\"viewBox=\"0 0 24 24\"\n",
       "     width=\"24px\">\n",
       "    <g>\n",
       "        <path d=\"M19 3H5c-1.1 0-2 .9-2 2v14c0 1.1.9 2 2 2h14c1.1 0 2-.9 2-2V5c0-1.1-.9-2-2-2zM9 17H7v-7h2v7zm4 0h-2V7h2v10zm4 0h-2v-4h2v4z\"/>\n",
       "    </g>\n",
       "</svg>\n",
       "  </button>\n",
       "\n",
       "<style>\n",
       "  .colab-df-quickchart {\n",
       "      --bg-color: #E8F0FE;\n",
       "      --fill-color: #1967D2;\n",
       "      --hover-bg-color: #E2EBFA;\n",
       "      --hover-fill-color: #174EA6;\n",
       "      --disabled-fill-color: #AAA;\n",
       "      --disabled-bg-color: #DDD;\n",
       "  }\n",
       "\n",
       "  [theme=dark] .colab-df-quickchart {\n",
       "      --bg-color: #3B4455;\n",
       "      --fill-color: #D2E3FC;\n",
       "      --hover-bg-color: #434B5C;\n",
       "      --hover-fill-color: #FFFFFF;\n",
       "      --disabled-bg-color: #3B4455;\n",
       "      --disabled-fill-color: #666;\n",
       "  }\n",
       "\n",
       "  .colab-df-quickchart {\n",
       "    background-color: var(--bg-color);\n",
       "    border: none;\n",
       "    border-radius: 50%;\n",
       "    cursor: pointer;\n",
       "    display: none;\n",
       "    fill: var(--fill-color);\n",
       "    height: 32px;\n",
       "    padding: 0;\n",
       "    width: 32px;\n",
       "  }\n",
       "\n",
       "  .colab-df-quickchart:hover {\n",
       "    background-color: var(--hover-bg-color);\n",
       "    box-shadow: 0 1px 2px rgba(60, 64, 67, 0.3), 0 1px 3px 1px rgba(60, 64, 67, 0.15);\n",
       "    fill: var(--button-hover-fill-color);\n",
       "  }\n",
       "\n",
       "  .colab-df-quickchart-complete:disabled,\n",
       "  .colab-df-quickchart-complete:disabled:hover {\n",
       "    background-color: var(--disabled-bg-color);\n",
       "    fill: var(--disabled-fill-color);\n",
       "    box-shadow: none;\n",
       "  }\n",
       "\n",
       "  .colab-df-spinner {\n",
       "    border: 2px solid var(--fill-color);\n",
       "    border-color: transparent;\n",
       "    border-bottom-color: var(--fill-color);\n",
       "    animation:\n",
       "      spin 1s steps(1) infinite;\n",
       "  }\n",
       "\n",
       "  @keyframes spin {\n",
       "    0% {\n",
       "      border-color: transparent;\n",
       "      border-bottom-color: var(--fill-color);\n",
       "      border-left-color: var(--fill-color);\n",
       "    }\n",
       "    20% {\n",
       "      border-color: transparent;\n",
       "      border-left-color: var(--fill-color);\n",
       "      border-top-color: var(--fill-color);\n",
       "    }\n",
       "    30% {\n",
       "      border-color: transparent;\n",
       "      border-left-color: var(--fill-color);\n",
       "      border-top-color: var(--fill-color);\n",
       "      border-right-color: var(--fill-color);\n",
       "    }\n",
       "    40% {\n",
       "      border-color: transparent;\n",
       "      border-right-color: var(--fill-color);\n",
       "      border-top-color: var(--fill-color);\n",
       "    }\n",
       "    60% {\n",
       "      border-color: transparent;\n",
       "      border-right-color: var(--fill-color);\n",
       "    }\n",
       "    80% {\n",
       "      border-color: transparent;\n",
       "      border-right-color: var(--fill-color);\n",
       "      border-bottom-color: var(--fill-color);\n",
       "    }\n",
       "    90% {\n",
       "      border-color: transparent;\n",
       "      border-bottom-color: var(--fill-color);\n",
       "    }\n",
       "  }\n",
       "</style>\n",
       "\n",
       "  <script>\n",
       "    async function quickchart(key) {\n",
       "      const quickchartButtonEl =\n",
       "        document.querySelector('#' + key + ' button');\n",
       "      quickchartButtonEl.disabled = true;  // To prevent multiple clicks.\n",
       "      quickchartButtonEl.classList.add('colab-df-spinner');\n",
       "      try {\n",
       "        const charts = await google.colab.kernel.invokeFunction(\n",
       "            'suggestCharts', [key], {});\n",
       "      } catch (error) {\n",
       "        console.error('Error during call to suggestCharts:', error);\n",
       "      }\n",
       "      quickchartButtonEl.classList.remove('colab-df-spinner');\n",
       "      quickchartButtonEl.classList.add('colab-df-quickchart-complete');\n",
       "    }\n",
       "    (() => {\n",
       "      let quickchartButtonEl =\n",
       "        document.querySelector('#df-26569094-3f09-456c-bd0c-65e8e070bc6e button');\n",
       "      quickchartButtonEl.style.display =\n",
       "        google.colab.kernel.accessAllowed ? 'block' : 'none';\n",
       "    })();\n",
       "  </script>\n",
       "</div>\n",
       "\n",
       "    </div>\n",
       "  </div>\n"
      ],
      "text/plain": [
       "                                                text  label\n",
       "0  Tamron AF 70-300mm F/4.0-5.6 Di LD Macro Telep...      2\n",
       "1         Softline Butterfly Women's Cotton Camisole      1\n",
       "2  Indian Economy: For UPSC Civil Services & Othe...      0\n",
       "3  Fujifilm X-T3 Mirrorless Digital Camera with X...      2\n",
       "4  Barata Formal Ties For Men, Navy Blue Tie Form...      1"
      ]
     },
     "execution_count": 7,
     "metadata": {},
     "output_type": "execute_result"
    }
   ],
   "source": [
    "df.head()"
   ]
  },
  {
   "cell_type": "code",
   "execution_count": null,
   "metadata": {
    "colab": {
     "base_uri": "https://localhost:8080/",
     "height": 241
    },
    "id": "SrelEHfpSW4f",
    "outputId": "c6635058-f86e-4422-f163-9f7f6a4cdf61"
   },
   "outputs": [
    {
     "data": {
      "text/html": [
       "<div>\n",
       "<style scoped>\n",
       "    .dataframe tbody tr th:only-of-type {\n",
       "        vertical-align: middle;\n",
       "    }\n",
       "\n",
       "    .dataframe tbody tr th {\n",
       "        vertical-align: top;\n",
       "    }\n",
       "\n",
       "    .dataframe thead th {\n",
       "        text-align: right;\n",
       "    }\n",
       "</style>\n",
       "<table border=\"1\" class=\"dataframe\">\n",
       "  <thead>\n",
       "    <tr style=\"text-align: right;\">\n",
       "      <th></th>\n",
       "      <th>count</th>\n",
       "    </tr>\n",
       "    <tr>\n",
       "      <th>label</th>\n",
       "      <th></th>\n",
       "    </tr>\n",
       "  </thead>\n",
       "  <tbody>\n",
       "    <tr>\n",
       "      <th>3</th>\n",
       "      <td>4839</td>\n",
       "    </tr>\n",
       "    <tr>\n",
       "      <th>0</th>\n",
       "      <td>2962</td>\n",
       "    </tr>\n",
       "    <tr>\n",
       "      <th>2</th>\n",
       "      <td>2615</td>\n",
       "    </tr>\n",
       "    <tr>\n",
       "      <th>1</th>\n",
       "      <td>2190</td>\n",
       "    </tr>\n",
       "  </tbody>\n",
       "</table>\n",
       "</div><br><label><b>dtype:</b> int64</label>"
      ],
      "text/plain": [
       "label\n",
       "3    4839\n",
       "0    2962\n",
       "2    2615\n",
       "1    2190\n",
       "Name: count, dtype: int64"
      ]
     },
     "execution_count": 8,
     "metadata": {},
     "output_type": "execute_result"
    }
   ],
   "source": [
    "df['label'].value_counts()"
   ]
  },
  {
   "cell_type": "code",
   "execution_count": null,
   "metadata": {
    "id": "aIAsWjIpOfGw"
   },
   "outputs": [],
   "source": [
    "def cleansing(df):\n",
    "    df_clean=df.str.lower() # convert to lowercase\n",
    "    df_clean=[re.sub(r\"\\d+\",\"\",i )for i in df_clean] # remove numbers\n",
    "    df_clean=[re.sub(r'[^\\w]', ' ', i)for i in df_clean] # remove punctuation\n",
    "    df_clean=[re.sub(r'\\s+',' ',i)for i in df_clean] # remove multiple whitespaces\n",
    "    df_clean=[re.sub(r'[^\\x00-\\x7F]+', '',i)for i in df_clean] # remove non-ASCII characters\n",
    "    return df_clean"
   ]
  },
  {
   "cell_type": "code",
   "execution_count": null,
   "metadata": {
    "colab": {
     "base_uri": "https://localhost:8080/",
     "height": 206
    },
    "id": "QKfo6pyoPByl",
    "outputId": "23196d24-463c-4081-fc4c-877cd55c5007"
   },
   "outputs": [
    {
     "data": {
      "application/vnd.google.colaboratory.intrinsic+json": {
       "summary": "{\n  \"name\": \"df\",\n  \"rows\": 12606,\n  \"fields\": [\n    {\n      \"column\": \"text\",\n      \"properties\": {\n        \"dtype\": \"string\",\n        \"num_unique_values\": 10454,\n        \"samples\": [\n          \"Envie ECR 20 + 4xAA 2800mAh Battery Charger with Rechargeable Battery Set (White) Beetle charger can charge 2/4 pieces AA/AAA Ni-MH/ Ni-Cd rechargeable batteries, output current 240 mA for AA/AAA. Use it between temperature 0 degree Celsius - 35 degree Celsius. Prevent from reverse polarity. Envie Rechargeable AA 2800mAh battery - The set of batteries have a current rating of 2800mAh. These batteries have Ni-MH (Nickel-Metal Hydride) electrodes to provide you with a safe and stable environment. The batteries are rechargeable and allow you to use them multiple times. The AA Sized battery is compatible with a large number of devices including remote controls, electronic toys, cameras, flashlights, torches and various other devices.\",\n          \"A Survival Guide for Life\",\n          \"ASkyl 90X Zoom Land and Sky View Telescope (Silver) Telescope is not only for sky use, but also for terrestrial use, weather you travel or stay at home. Specification: Model: af36050 upgrade Optical system: refractorMagnification: 18x, 27x, 60x, 90x (6mm eyepiece + magnification = 60x, 6mm eyepiece + magnification with 1.5x erecting eyepiece = 90x; 20mm eyepiece +Magnification = 18x, 20mm eyepiece + magnification with 1.5x erecting eyepiece = 27x)Aperture: 50mm/2.0 inchFocal length: 360mmDiagonal prisms: 90 degree angle prismEyepiece: 2 pieces Clear views Fully multi-coated optics glass lens reaches 99.5% transmittance. It has clear imaging effect and stirring visual effect. H20mm, h6mm, 1.5x erecting eyepiece help you could see things from different distances and sizes objects. This astronomical telescope is a specially designed for students, beginners, kids, teens, entry- level amateur astronomers. H20mm, terrestrial use Main tube + angle prism+ h20mm H6mm, astronomical use 1. Insert the moon lens into the eyepiece h6mm and then screw it 2. Main tube + angle prism+ h20mm Increase the magnification of image 1. Main tube + 1.5x erecting eyepiece+ h20mm/ h6mm Package include: Telescope x 1H20mm eyepiece x 1H6mm eyepiece x 1Moon lens x 11.5x erecting eyepiece x 113.5 inch height aluminium tripod x 1 cary caseInstruction manual x 1 Warm tips: Do not observe the sun directly through the telescope.The telescope could be enhanced by changing the magnification.It is not able to seize the vision if the star in a far distance.The view of scenery is normal applicable.\"\n        ],\n        \"semantic_type\": \"\",\n        \"description\": \"\"\n      }\n    },\n    {\n      \"column\": \"label\",\n      \"properties\": {\n        \"dtype\": \"number\",\n        \"std\": 1,\n        \"min\": 0,\n        \"max\": 3,\n        \"num_unique_values\": 4,\n        \"samples\": [\n          1,\n          3,\n          2\n        ],\n        \"semantic_type\": \"\",\n        \"description\": \"\"\n      }\n    },\n    {\n      \"column\": \"clean_text\",\n      \"properties\": {\n        \"dtype\": \"string\",\n        \"num_unique_values\": 10405,\n        \"samples\": [\n          \"ethics integrity and values in public service \",\n          \"sailing alone around the world \",\n          \"pattern creations designer woman black pattern printed slim and lightweight back cover for redmi note pro the patterncreations hard case for redmi note pro give the perfect combination of protection and style for your phone the hard polycarbonate shell made of superior grade plastic keeps the phone safe from falls bumps and wear and tear while the curated collection of designs lets you express your style with flair it is designed with the appropriate cutouts for the speaker camera and other ports to provide the best performance both in terms of functionality and safety furthermore the back case gives you a nice grip and the case is precision moulded with no seams or sharp edges \"\n        ],\n        \"semantic_type\": \"\",\n        \"description\": \"\"\n      }\n    }\n  ]\n}",
       "type": "dataframe",
       "variable_name": "df"
      },
      "text/html": [
       "\n",
       "  <div id=\"df-dad4d7af-601c-4270-8e6a-5ff7db431af6\" class=\"colab-df-container\">\n",
       "    <div>\n",
       "<style scoped>\n",
       "    .dataframe tbody tr th:only-of-type {\n",
       "        vertical-align: middle;\n",
       "    }\n",
       "\n",
       "    .dataframe tbody tr th {\n",
       "        vertical-align: top;\n",
       "    }\n",
       "\n",
       "    .dataframe thead th {\n",
       "        text-align: right;\n",
       "    }\n",
       "</style>\n",
       "<table border=\"1\" class=\"dataframe\">\n",
       "  <thead>\n",
       "    <tr style=\"text-align: right;\">\n",
       "      <th></th>\n",
       "      <th>text</th>\n",
       "      <th>label</th>\n",
       "      <th>clean_text</th>\n",
       "    </tr>\n",
       "  </thead>\n",
       "  <tbody>\n",
       "    <tr>\n",
       "      <th>0</th>\n",
       "      <td>Tamron AF 70-300mm F/4.0-5.6 Di LD Macro Telep...</td>\n",
       "      <td>2</td>\n",
       "      <td>tamron af mm f di ld macro telephoto zoom lens...</td>\n",
       "    </tr>\n",
       "    <tr>\n",
       "      <th>1</th>\n",
       "      <td>Softline Butterfly Women's Cotton Camisole</td>\n",
       "      <td>1</td>\n",
       "      <td>softline butterfly women s cotton camisole</td>\n",
       "    </tr>\n",
       "    <tr>\n",
       "      <th>2</th>\n",
       "      <td>Indian Economy: For UPSC Civil Services &amp; Othe...</td>\n",
       "      <td>0</td>\n",
       "      <td>indian economy for upsc civil services other s...</td>\n",
       "    </tr>\n",
       "    <tr>\n",
       "      <th>3</th>\n",
       "      <td>Fujifilm X-T3 Mirrorless Digital Camera with X...</td>\n",
       "      <td>2</td>\n",
       "      <td>fujifilm x t mirrorless digital camera with xf...</td>\n",
       "    </tr>\n",
       "    <tr>\n",
       "      <th>4</th>\n",
       "      <td>Barata Formal Ties For Men, Navy Blue Tie Form...</td>\n",
       "      <td>1</td>\n",
       "      <td>barata formal ties for men navy blue tie forma...</td>\n",
       "    </tr>\n",
       "  </tbody>\n",
       "</table>\n",
       "</div>\n",
       "    <div class=\"colab-df-buttons\">\n",
       "\n",
       "  <div class=\"colab-df-container\">\n",
       "    <button class=\"colab-df-convert\" onclick=\"convertToInteractive('df-dad4d7af-601c-4270-8e6a-5ff7db431af6')\"\n",
       "            title=\"Convert this dataframe to an interactive table.\"\n",
       "            style=\"display:none;\">\n",
       "\n",
       "  <svg xmlns=\"http://www.w3.org/2000/svg\" height=\"24px\" viewBox=\"0 -960 960 960\">\n",
       "    <path d=\"M120-120v-720h720v720H120Zm60-500h600v-160H180v160Zm220 220h160v-160H400v160Zm0 220h160v-160H400v160ZM180-400h160v-160H180v160Zm440 0h160v-160H620v160ZM180-180h160v-160H180v160Zm440 0h160v-160H620v160Z\"/>\n",
       "  </svg>\n",
       "    </button>\n",
       "\n",
       "  <style>\n",
       "    .colab-df-container {\n",
       "      display:flex;\n",
       "      gap: 12px;\n",
       "    }\n",
       "\n",
       "    .colab-df-convert {\n",
       "      background-color: #E8F0FE;\n",
       "      border: none;\n",
       "      border-radius: 50%;\n",
       "      cursor: pointer;\n",
       "      display: none;\n",
       "      fill: #1967D2;\n",
       "      height: 32px;\n",
       "      padding: 0 0 0 0;\n",
       "      width: 32px;\n",
       "    }\n",
       "\n",
       "    .colab-df-convert:hover {\n",
       "      background-color: #E2EBFA;\n",
       "      box-shadow: 0px 1px 2px rgba(60, 64, 67, 0.3), 0px 1px 3px 1px rgba(60, 64, 67, 0.15);\n",
       "      fill: #174EA6;\n",
       "    }\n",
       "\n",
       "    .colab-df-buttons div {\n",
       "      margin-bottom: 4px;\n",
       "    }\n",
       "\n",
       "    [theme=dark] .colab-df-convert {\n",
       "      background-color: #3B4455;\n",
       "      fill: #D2E3FC;\n",
       "    }\n",
       "\n",
       "    [theme=dark] .colab-df-convert:hover {\n",
       "      background-color: #434B5C;\n",
       "      box-shadow: 0px 1px 3px 1px rgba(0, 0, 0, 0.15);\n",
       "      filter: drop-shadow(0px 1px 2px rgba(0, 0, 0, 0.3));\n",
       "      fill: #FFFFFF;\n",
       "    }\n",
       "  </style>\n",
       "\n",
       "    <script>\n",
       "      const buttonEl =\n",
       "        document.querySelector('#df-dad4d7af-601c-4270-8e6a-5ff7db431af6 button.colab-df-convert');\n",
       "      buttonEl.style.display =\n",
       "        google.colab.kernel.accessAllowed ? 'block' : 'none';\n",
       "\n",
       "      async function convertToInteractive(key) {\n",
       "        const element = document.querySelector('#df-dad4d7af-601c-4270-8e6a-5ff7db431af6');\n",
       "        const dataTable =\n",
       "          await google.colab.kernel.invokeFunction('convertToInteractive',\n",
       "                                                    [key], {});\n",
       "        if (!dataTable) return;\n",
       "\n",
       "        const docLinkHtml = 'Like what you see? Visit the ' +\n",
       "          '<a target=\"_blank\" href=https://colab.research.google.com/notebooks/data_table.ipynb>data table notebook</a>'\n",
       "          + ' to learn more about interactive tables.';\n",
       "        element.innerHTML = '';\n",
       "        dataTable['output_type'] = 'display_data';\n",
       "        await google.colab.output.renderOutput(dataTable, element);\n",
       "        const docLink = document.createElement('div');\n",
       "        docLink.innerHTML = docLinkHtml;\n",
       "        element.appendChild(docLink);\n",
       "      }\n",
       "    </script>\n",
       "  </div>\n",
       "\n",
       "\n",
       "<div id=\"df-0e0aa3a2-0d42-4879-93ff-7c20b618eb17\">\n",
       "  <button class=\"colab-df-quickchart\" onclick=\"quickchart('df-0e0aa3a2-0d42-4879-93ff-7c20b618eb17')\"\n",
       "            title=\"Suggest charts\"\n",
       "            style=\"display:none;\">\n",
       "\n",
       "<svg xmlns=\"http://www.w3.org/2000/svg\" height=\"24px\"viewBox=\"0 0 24 24\"\n",
       "     width=\"24px\">\n",
       "    <g>\n",
       "        <path d=\"M19 3H5c-1.1 0-2 .9-2 2v14c0 1.1.9 2 2 2h14c1.1 0 2-.9 2-2V5c0-1.1-.9-2-2-2zM9 17H7v-7h2v7zm4 0h-2V7h2v10zm4 0h-2v-4h2v4z\"/>\n",
       "    </g>\n",
       "</svg>\n",
       "  </button>\n",
       "\n",
       "<style>\n",
       "  .colab-df-quickchart {\n",
       "      --bg-color: #E8F0FE;\n",
       "      --fill-color: #1967D2;\n",
       "      --hover-bg-color: #E2EBFA;\n",
       "      --hover-fill-color: #174EA6;\n",
       "      --disabled-fill-color: #AAA;\n",
       "      --disabled-bg-color: #DDD;\n",
       "  }\n",
       "\n",
       "  [theme=dark] .colab-df-quickchart {\n",
       "      --bg-color: #3B4455;\n",
       "      --fill-color: #D2E3FC;\n",
       "      --hover-bg-color: #434B5C;\n",
       "      --hover-fill-color: #FFFFFF;\n",
       "      --disabled-bg-color: #3B4455;\n",
       "      --disabled-fill-color: #666;\n",
       "  }\n",
       "\n",
       "  .colab-df-quickchart {\n",
       "    background-color: var(--bg-color);\n",
       "    border: none;\n",
       "    border-radius: 50%;\n",
       "    cursor: pointer;\n",
       "    display: none;\n",
       "    fill: var(--fill-color);\n",
       "    height: 32px;\n",
       "    padding: 0;\n",
       "    width: 32px;\n",
       "  }\n",
       "\n",
       "  .colab-df-quickchart:hover {\n",
       "    background-color: var(--hover-bg-color);\n",
       "    box-shadow: 0 1px 2px rgba(60, 64, 67, 0.3), 0 1px 3px 1px rgba(60, 64, 67, 0.15);\n",
       "    fill: var(--button-hover-fill-color);\n",
       "  }\n",
       "\n",
       "  .colab-df-quickchart-complete:disabled,\n",
       "  .colab-df-quickchart-complete:disabled:hover {\n",
       "    background-color: var(--disabled-bg-color);\n",
       "    fill: var(--disabled-fill-color);\n",
       "    box-shadow: none;\n",
       "  }\n",
       "\n",
       "  .colab-df-spinner {\n",
       "    border: 2px solid var(--fill-color);\n",
       "    border-color: transparent;\n",
       "    border-bottom-color: var(--fill-color);\n",
       "    animation:\n",
       "      spin 1s steps(1) infinite;\n",
       "  }\n",
       "\n",
       "  @keyframes spin {\n",
       "    0% {\n",
       "      border-color: transparent;\n",
       "      border-bottom-color: var(--fill-color);\n",
       "      border-left-color: var(--fill-color);\n",
       "    }\n",
       "    20% {\n",
       "      border-color: transparent;\n",
       "      border-left-color: var(--fill-color);\n",
       "      border-top-color: var(--fill-color);\n",
       "    }\n",
       "    30% {\n",
       "      border-color: transparent;\n",
       "      border-left-color: var(--fill-color);\n",
       "      border-top-color: var(--fill-color);\n",
       "      border-right-color: var(--fill-color);\n",
       "    }\n",
       "    40% {\n",
       "      border-color: transparent;\n",
       "      border-right-color: var(--fill-color);\n",
       "      border-top-color: var(--fill-color);\n",
       "    }\n",
       "    60% {\n",
       "      border-color: transparent;\n",
       "      border-right-color: var(--fill-color);\n",
       "    }\n",
       "    80% {\n",
       "      border-color: transparent;\n",
       "      border-right-color: var(--fill-color);\n",
       "      border-bottom-color: var(--fill-color);\n",
       "    }\n",
       "    90% {\n",
       "      border-color: transparent;\n",
       "      border-bottom-color: var(--fill-color);\n",
       "    }\n",
       "  }\n",
       "</style>\n",
       "\n",
       "  <script>\n",
       "    async function quickchart(key) {\n",
       "      const quickchartButtonEl =\n",
       "        document.querySelector('#' + key + ' button');\n",
       "      quickchartButtonEl.disabled = true;  // To prevent multiple clicks.\n",
       "      quickchartButtonEl.classList.add('colab-df-spinner');\n",
       "      try {\n",
       "        const charts = await google.colab.kernel.invokeFunction(\n",
       "            'suggestCharts', [key], {});\n",
       "      } catch (error) {\n",
       "        console.error('Error during call to suggestCharts:', error);\n",
       "      }\n",
       "      quickchartButtonEl.classList.remove('colab-df-spinner');\n",
       "      quickchartButtonEl.classList.add('colab-df-quickchart-complete');\n",
       "    }\n",
       "    (() => {\n",
       "      let quickchartButtonEl =\n",
       "        document.querySelector('#df-0e0aa3a2-0d42-4879-93ff-7c20b618eb17 button');\n",
       "      quickchartButtonEl.style.display =\n",
       "        google.colab.kernel.accessAllowed ? 'block' : 'none';\n",
       "    })();\n",
       "  </script>\n",
       "</div>\n",
       "\n",
       "    </div>\n",
       "  </div>\n"
      ],
      "text/plain": [
       "                                                text  label  \\\n",
       "0  Tamron AF 70-300mm F/4.0-5.6 Di LD Macro Telep...      2   \n",
       "1         Softline Butterfly Women's Cotton Camisole      1   \n",
       "2  Indian Economy: For UPSC Civil Services & Othe...      0   \n",
       "3  Fujifilm X-T3 Mirrorless Digital Camera with X...      2   \n",
       "4  Barata Formal Ties For Men, Navy Blue Tie Form...      1   \n",
       "\n",
       "                                          clean_text  \n",
       "0  tamron af mm f di ld macro telephoto zoom lens...  \n",
       "1         softline butterfly women s cotton camisole  \n",
       "2  indian economy for upsc civil services other s...  \n",
       "3  fujifilm x t mirrorless digital camera with xf...  \n",
       "4  barata formal ties for men navy blue tie forma...  "
      ]
     },
     "execution_count": 10,
     "metadata": {},
     "output_type": "execute_result"
    }
   ],
   "source": [
    "df['clean_text']=cleansing(df['text'])\n",
    "df.head()"
   ]
  },
  {
   "cell_type": "code",
   "execution_count": null,
   "metadata": {
    "colab": {
     "base_uri": "https://localhost:8080/",
     "height": 122
    },
    "id": "GzW7J-sIWgTx",
    "outputId": "6f4bbbc6-c303-4d1b-e487-7d2b4f21a14b"
   },
   "outputs": [
    {
     "data": {
      "application/vnd.google.colaboratory.intrinsic+json": {
       "type": "string"
      },
      "text/plain": [
       "\"GTC Multi Use Clothes Organizer, Bookcase, Storage Cabinet, Wardrobe Closet 75 x 47 x 146 CM Cloth Rack ( IT N - STW013 ) Strong storage ability - wardrobe is made up of polypropylene sheet and steel rod which is not hazarded material for kids, women, and men also we can use this to store clothes, kids toys, books. Each cube can hold up to 8-10kg's approx and full size:75 x 47 x 146 cm strong and sturdy design- made from select steel, environmentally-friendly resin and plastic connectors. It is strong enough to handle whatever you throw at it. This portable storage closet will meet your long term storage needs. Dustproof and waterproof doors- each cube features a door which can keep your items sealed away from dust and humidity. Manufactured with durable steel and dirt-proof, easy-to-clean resin for easy maintenance and care. Quick and easy assembly -assembly is tool-less and takes mere minutes when following the installation instructions available on the image. We trust that you will be impressed with this aesthetically pleasing design. Spacious multi-function storage closet- not just for clothes, can store books, shoess, kids' toys, you name it, ample room provides enough space for both longer outfits and folded clothes, for easy access to whatever you choose to store.\""
      ]
     },
     "execution_count": 11,
     "metadata": {},
     "output_type": "execute_result"
    }
   ],
   "source": [
    "df['text'].iloc[7]"
   ]
  },
  {
   "cell_type": "code",
   "execution_count": null,
   "metadata": {
    "colab": {
     "base_uri": "https://localhost:8080/",
     "height": 122
    },
    "id": "0PiZIH_aWZan",
    "outputId": "c6cb3acb-b9bb-410c-cbee-61d09e92ebb9"
   },
   "outputs": [
    {
     "data": {
      "application/vnd.google.colaboratory.intrinsic+json": {
       "type": "string"
      },
      "text/plain": [
       "'gtc multi use clothes organizer bookcase storage cabinet wardrobe closet x x cm cloth rack it n stw strong storage ability wardrobe is made up of polypropylene sheet and steel rod which is not hazarded material for kids women and men also we can use this to store clothes kids toys books each cube can hold up to kg s approx and full size x x cm strong and sturdy design made from select steel environmentally friendly resin and plastic connectors it is strong enough to handle whatever you throw at it this portable storage closet will meet your long term storage needs dustproof and waterproof doors each cube features a door which can keep your items sealed away from dust and humidity manufactured with durable steel and dirt proof easy to clean resin for easy maintenance and care quick and easy assembly assembly is tool less and takes mere minutes when following the installation instructions available on the image we trust that you will be impressed with this aesthetically pleasing design spacious multi function storage closet not just for clothes can store books shoess kids toys you name it ample room provides enough space for both longer outfits and folded clothes for easy access to whatever you choose to store '"
      ]
     },
     "execution_count": 12,
     "metadata": {},
     "output_type": "execute_result"
    }
   ],
   "source": [
    "df['clean_text'].iloc[7]"
   ]
  },
  {
   "cell_type": "code",
   "execution_count": null,
   "metadata": {
    "id": "_jWmGH-RWOBp"
   },
   "outputs": [],
   "source": [
    "# data splitting\n",
    "x_train, x_test, y_train, y_test = train_test_split(df['clean_text'], df['label'], test_size = 0.2, random_state = 42,stratify=df['label'])"
   ]
  },
  {
   "cell_type": "code",
   "execution_count": null,
   "metadata": {
    "colab": {
     "base_uri": "https://localhost:8080/",
     "height": 241
    },
    "id": "Dk79B58UWRw5",
    "outputId": "571daf82-453d-4710-f1a4-439bf10a85e4"
   },
   "outputs": [
    {
     "data": {
      "text/html": [
       "<div>\n",
       "<style scoped>\n",
       "    .dataframe tbody tr th:only-of-type {\n",
       "        vertical-align: middle;\n",
       "    }\n",
       "\n",
       "    .dataframe tbody tr th {\n",
       "        vertical-align: top;\n",
       "    }\n",
       "\n",
       "    .dataframe thead th {\n",
       "        text-align: right;\n",
       "    }\n",
       "</style>\n",
       "<table border=\"1\" class=\"dataframe\">\n",
       "  <thead>\n",
       "    <tr style=\"text-align: right;\">\n",
       "      <th></th>\n",
       "      <th>clean_text</th>\n",
       "    </tr>\n",
       "  </thead>\n",
       "  <tbody>\n",
       "    <tr>\n",
       "      <th>11542</th>\n",
       "      <td>jockey women s cotton spaghetti top feel at ea...</td>\n",
       "    </tr>\n",
       "    <tr>\n",
       "      <th>4332</th>\n",
       "      <td>ansio vacuum compressed pp space saver storage...</td>\n",
       "    </tr>\n",
       "    <tr>\n",
       "      <th>7342</th>\n",
       "      <td>think and grow rich about the author born into...</td>\n",
       "    </tr>\n",
       "    <tr>\n",
       "      <th>8391</th>\n",
       "      <td>ccna data center dcict official cert guide e c...</td>\n",
       "    </tr>\n",
       "    <tr>\n",
       "      <th>6407</th>\n",
       "      <td>sathiyas sunrise cotton blend bath towel pack ...</td>\n",
       "    </tr>\n",
       "  </tbody>\n",
       "</table>\n",
       "</div><br><label><b>dtype:</b> object</label>"
      ],
      "text/plain": [
       "11542    jockey women s cotton spaghetti top feel at ea...\n",
       "4332     ansio vacuum compressed pp space saver storage...\n",
       "7342     think and grow rich about the author born into...\n",
       "8391     ccna data center dcict official cert guide e c...\n",
       "6407     sathiyas sunrise cotton blend bath towel pack ...\n",
       "Name: clean_text, dtype: object"
      ]
     },
     "execution_count": 14,
     "metadata": {},
     "output_type": "execute_result"
    }
   ],
   "source": [
    "x_train.head()"
   ]
  },
  {
   "cell_type": "markdown",
   "metadata": {
    "id": "AbuEno4V8sDD"
   },
   "source": [
    "# 2.b"
   ]
  },
  {
   "cell_type": "markdown",
   "metadata": {
    "id": "sFMXBY4sjXkA"
   },
   "source": [
    "## TD-IDF Method"
   ]
  },
  {
   "cell_type": "code",
   "execution_count": null,
   "metadata": {
    "id": "Iey4cnzKB5ID"
   },
   "outputs": [],
   "source": [
    "# remove stopwords and do the vectorization with TF-IDF on train and test data\n",
    "\n",
    "list_stopwords = stopwords.words('english')\n",
    "\n",
    "vectorizer = TfidfVectorizer(stop_words=list_stopwords)\n",
    "train_tfidf = vectorizer.fit_transform(x_train)\n",
    "test_tfidf = vectorizer.transform(x_test)\n",
    "\n",
    "# convert to DataFrame\n",
    "TFIDF_train = pd.DataFrame(train_tfidf.toarray(), columns=vectorizer.get_feature_names_out())\n",
    "TFIDF_test = pd.DataFrame(test_tfidf.toarray(), columns=vectorizer.get_feature_names_out())"
   ]
  },
  {
   "cell_type": "code",
   "execution_count": null,
   "metadata": {
    "colab": {
     "base_uri": "https://localhost:8080/"
    },
    "id": "zBzm4Co5DcKi",
    "outputId": "405c7786-42f1-4853-e63b-9ba0710e9b56"
   },
   "outputs": [
    {
     "data": {
      "text/plain": [
       "(10084, 37274)"
      ]
     },
     "execution_count": 16,
     "metadata": {},
     "output_type": "execute_result"
    }
   ],
   "source": [
    "train_tfidf.shape"
   ]
  },
  {
   "cell_type": "code",
   "execution_count": null,
   "metadata": {
    "colab": {
     "base_uri": "https://localhost:8080/"
    },
    "id": "kUF1t9h3F2So",
    "outputId": "01aa1f85-a51d-451b-b22f-9b8932d3bfe0"
   },
   "outputs": [
    {
     "data": {
      "text/plain": [
       "(2522, 37274)"
      ]
     },
     "execution_count": 17,
     "metadata": {},
     "output_type": "execute_result"
    }
   ],
   "source": [
    "test_tfidf.shape"
   ]
  },
  {
   "cell_type": "markdown",
   "metadata": {
    "id": "QKa1kkmrhdJ4"
   },
   "source": [
    "> before tuning"
   ]
  },
  {
   "cell_type": "code",
   "execution_count": null,
   "metadata": {
    "id": "phwP0HiFhacB"
   },
   "outputs": [],
   "source": [
    "svm_model = svm.LinearSVC(random_state=42)\n",
    "svm_model.fit(TFIDF_train, y_train)\n",
    "svm_notuning = svm_model.predict(TFIDF_test)\n",
    "\n",
    "rf_model = RandomForestClassifier(random_state=42)\n",
    "rf_model.fit(TFIDF_train, y_train)\n",
    "rf_notuning = rf_model.predict(TFIDF_test)"
   ]
  },
  {
   "cell_type": "code",
   "execution_count": null,
   "metadata": {
    "colab": {
     "base_uri": "https://localhost:8080/"
    },
    "id": "GH-fNGtjm3Qg",
    "outputId": "bd55fe33-b017-4308-a9d3-fad2bb7e1070"
   },
   "outputs": [
    {
     "name": "stdout",
     "output_type": "stream",
     "text": [
      "\n",
      "--------------------TF-IDF Before Tuning:--------------------\n",
      "\n",
      "\n",
      "Classification Report SVM:\n",
      "\n",
      "                        precision    recall  f1-score   support\n",
      "\n",
      "           Electronics       0.97      0.96      0.97       593\n",
      "Clothing & Accessories       0.98      0.98      0.98       438\n",
      "                 Books       0.97      0.95      0.96       523\n",
      "             Household       0.96      0.98      0.97       968\n",
      "\n",
      "              accuracy                           0.97      2522\n",
      "             macro avg       0.97      0.97      0.97      2522\n",
      "          weighted avg       0.97      0.97      0.97      2522\n",
      "\n",
      "\n",
      "Classification Report Random Forest:\n",
      "\n",
      "                        precision    recall  f1-score   support\n",
      "\n",
      "           Electronics       0.95      0.94      0.95       593\n",
      "Clothing & Accessories       0.98      0.95      0.96       438\n",
      "                 Books       0.96      0.90      0.93       523\n",
      "             Household       0.92      0.97      0.94       968\n",
      "\n",
      "              accuracy                           0.94      2522\n",
      "             macro avg       0.95      0.94      0.95      2522\n",
      "          weighted avg       0.95      0.94      0.94      2522\n",
      "\n"
     ]
    }
   ],
   "source": [
    "print('\\n--------------------TF-IDF Before Tuning:--------------------\\n')\n",
    "\n",
    "print('\\nClassification Report SVM:\\n')\n",
    "print(classification_report(y_test, svm_notuning, target_names = ['Electronics', 'Clothing & Accessories', 'Books', 'Household']))\n",
    "\n",
    "print('\\nClassification Report Random Forest:\\n')\n",
    "print(classification_report(y_test, rf_notuning, target_names = ['Electronics', 'Clothing & Accessories', 'Books', 'Household']))"
   ]
  },
  {
   "cell_type": "markdown",
   "metadata": {
    "id": "1Jhch8CCLVuY"
   },
   "source": [
    "Dari hasil di atas, dapat disimpulkan bahwa dengan menggunakan vectorization TF-IDF dengan algoritma SVM lebih unggul. Tidak hanya dikarenakan accuracy yang lebih tinggi, mencapai 97%, tetapi model SVM memiliki nilai precision-recall yang lebih tinggi pada setiap kelas prediksi, hal ini menunjukan bahwa kinerja model SVM dapat mengklasifikasikan jumlah prediksi benar dengan lebih baik. Lalu, hasil f1 score pada model SVM yang lebih tinggi juga menunjukkan stabilitas/keseimbangan dari model ini dalam memprediksi output."
   ]
  },
  {
   "cell_type": "code",
   "execution_count": null,
   "metadata": {
    "colab": {
     "base_uri": "https://localhost:8080/"
    },
    "id": "hYAWybbZn9QI",
    "outputId": "54bfbdd8-1aec-4f2d-d44d-8414556f2f8e"
   },
   "outputs": [
    {
     "name": "stdout",
     "output_type": "stream",
     "text": [
      "Fitting 5 folds for each of 150 candidates, totalling 750 fits\n",
      "Best Parameters: {'C': 1, 'max_iter': 1000, 'penalty': 'l2', 'tol': 0.0001}\n"
     ]
    }
   ],
   "source": [
    "svm_model = svm.LinearSVC(random_state=42, max_iter = 10000)\n",
    "\n",
    "# define the parameter grid\n",
    "param_grid = {\n",
    "    'C': [0.01, 0.1, 1, 10, 100],\n",
    "    'penalty': ['l1', 'l2'],\n",
    "    'max_iter': [1000, 2000, 3000, 5000, 10000],\n",
    "    'tol': [1e-4, 1e-3, 1e-2]\n",
    "}\n",
    "\n",
    "# search the best parameters\n",
    "grid_search = GridSearchCV(svm_model, param_grid, cv=5, n_jobs=-1, verbose=1)\n",
    "grid_search.fit(TFIDF_train, y_train)\n",
    "best_model = grid_search.best_estimator_\n",
    "best_params = grid_search.best_params_\n",
    "\n",
    "print(\"Best Parameters:\", best_params)"
   ]
  },
  {
   "cell_type": "code",
   "execution_count": null,
   "metadata": {
    "id": "bgwtF0SILDZR"
   },
   "outputs": [],
   "source": [
    "svm_model = svm.LinearSVC(random_state=42, max_iter=1000, C=1, penalty=\"l2\", tol=0.0001)\n",
    "svm_model.fit(TFIDF_train, y_train)\n",
    "\n",
    "test_svm = svm_model.predict(TFIDF_test) # predict with svm on our test data"
   ]
  },
  {
   "cell_type": "markdown",
   "metadata": {
    "id": "HwDiWTpOxJZr"
   },
   "source": [
    "> Random Forest"
   ]
  },
  {
   "cell_type": "code",
   "execution_count": null,
   "metadata": {
    "colab": {
     "base_uri": "https://localhost:8080/"
    },
    "id": "hOPw2SfHxCmL",
    "outputId": "dd9fd7db-cbbc-4cb6-e224-dcc54061b33e"
   },
   "outputs": [
    {
     "name": "stdout",
     "output_type": "stream",
     "text": [
      "Fitting 5 folds for each of 48 candidates, totalling 240 fits\n",
      "Best Parameters: {'criterion': 'gini', 'max_depth': None, 'max_features': 'log2', 'n_estimators': 500}\n"
     ]
    }
   ],
   "source": [
    "rf = RandomForestClassifier(random_state= 42)\n",
    "\n",
    "# define the parameter grid\n",
    "param_grid = {\n",
    "    'n_estimators': [100, 200, 500],\n",
    "    'max_features': ['sqrt', 'log2'],\n",
    "    'max_depth': [None, 10, 20, 30],\n",
    "    'criterion': ['gini', 'entropy'],\n",
    "}\n",
    "\n",
    "# search the best parameters\n",
    "grid_search = GridSearchCV(rf, param_grid, cv=5, n_jobs=5, verbose=1)\n",
    "grid_search.fit(TFIDF_train, y_train)\n",
    "best_model = grid_search.best_estimator_\n",
    "best_params = grid_search.best_params_\n",
    "\n",
    "print(\"Best Parameters:\", best_params)"
   ]
  },
  {
   "cell_type": "code",
   "execution_count": null,
   "metadata": {
    "id": "sCfqpqrFIFPr"
   },
   "outputs": [],
   "source": [
    "rf = RandomForestClassifier(random_state=42, criterion= 'gini', max_depth=None, max_features='log2', n_estimators=500)"
   ]
  },
  {
   "cell_type": "code",
   "execution_count": null,
   "metadata": {
    "id": "SS02RW1QxNvR"
   },
   "outputs": [],
   "source": [
    "rf.fit(train_tfidf, y_train)\n",
    "test_rf = rf.predict(test_tfidf) # predict with rf on our test data"
   ]
  },
  {
   "cell_type": "code",
   "execution_count": null,
   "metadata": {
    "colab": {
     "base_uri": "https://localhost:8080/"
    },
    "id": "tU_Kr-VS6s77",
    "outputId": "5e6cc86a-f3fa-40d8-9ae1-b47ec0df1726"
   },
   "outputs": [
    {
     "name": "stdout",
     "output_type": "stream",
     "text": [
      "\n",
      "--------------------TF-IDF After Tuning:--------------------\n",
      "\n",
      "\n",
      "Classification Report SVM:\n",
      "\n",
      "                        precision    recall  f1-score   support\n",
      "\n",
      "           Electronics       0.97      0.96      0.97       593\n",
      "Clothing & Accessories       0.98      0.98      0.98       438\n",
      "                 Books       0.97      0.95      0.96       523\n",
      "             Household       0.96      0.98      0.97       968\n",
      "\n",
      "              accuracy                           0.97      2522\n",
      "             macro avg       0.97      0.97      0.97      2522\n",
      "          weighted avg       0.97      0.97      0.97      2522\n",
      "\n",
      "\n",
      " Classification Report Random Forest:\n",
      "\n",
      "                        precision    recall  f1-score   support\n",
      "\n",
      "           Electronics       0.95      0.95      0.95       593\n",
      "Clothing & Accessories       0.99      0.96      0.97       438\n",
      "                 Books       0.97      0.90      0.93       523\n",
      "             Household       0.92      0.98      0.95       968\n",
      "\n",
      "              accuracy                           0.95      2522\n",
      "             macro avg       0.96      0.94      0.95      2522\n",
      "          weighted avg       0.95      0.95      0.95      2522\n",
      "\n"
     ]
    }
   ],
   "source": [
    "print('\\n--------------------TF-IDF After Tuning:--------------------\\n')\n",
    "\n",
    "print('\\nClassification Report SVM:\\n')\n",
    "print(classification_report(y_test, test_svm, target_names = ['Electronics', 'Clothing & Accessories', 'Books', 'Household']))\n",
    "\n",
    "print('\\n Classification Report Random Forest:\\n')\n",
    "print(classification_report(y_test, test_rf, target_names = ['Electronics', 'Clothing & Accessories', 'Books', 'Household']))"
   ]
  },
  {
   "cell_type": "markdown",
   "metadata": {
    "id": "gV_Ss6EiOSWq"
   },
   "source": [
    "Dapat diketahui bahwa hasil setelah tuning juga menunjukkan kinerja model SVM lebih baik dibandingkan RF, yaitu dengan accuracy model setinggi 97%.\n",
    "> model RF memang memiliki nilai precision yang lebih tinggi (99%) seperti pada kelas \"Books\", tetapi jika dilihat hasil recall yang hanya sebesar 90% maka ditemukan bahwa model RF kurang mengenali/melewatkan data pada kategori books yang menyebabkan nilai F1 score yang lebih rendah.\n",
    "\n",
    "Secara umum, jika dilihat nilai precision, recall, dan F1 score, model SVM setelah tuning dapat mengklasifikasikan data dengan lebih seimbang dan efektif."
   ]
  },
  {
   "cell_type": "markdown",
   "metadata": {
    "id": "dfW61Nos4JfH"
   },
   "source": [
    "## Word2Vec"
   ]
  },
  {
   "cell_type": "code",
   "execution_count": null,
   "metadata": {
    "id": "T_uPsPws4JCJ"
   },
   "outputs": [],
   "source": [
    "token_train = [word_tokenize(i) for i in x_train]\n",
    "token_test = [word_tokenize(i) for i in x_test]"
   ]
  },
  {
   "cell_type": "code",
   "execution_count": null,
   "metadata": {
    "colab": {
     "base_uri": "https://localhost:8080/"
    },
    "id": "lR3_MBNjKM8h",
    "outputId": "dfaca347-7297-45cd-9214-a44417318436"
   },
   "outputs": [
    {
     "name": "stderr",
     "output_type": "stream",
     "text": [
      "[nltk_data] Downloading package stopwords to /root/nltk_data...\n",
      "[nltk_data]   Package stopwords is already up-to-date!\n"
     ]
    }
   ],
   "source": [
    "from nltk.corpus import stopwords\n",
    "nltk.download('stopwords')\n",
    "stop_words = set(stopwords.words('english'))"
   ]
  },
  {
   "cell_type": "code",
   "execution_count": null,
   "metadata": {
    "id": "9ghGSVksv6yc"
   },
   "outputs": [],
   "source": [
    "# remove stopwords from train and test data\n",
    "filtered_train = [[word for word in sublist if word not in stop_words] for sublist in token_train]\n",
    "filtered_test = [[word for word in sublist if word not in stop_words] for sublist in token_test]\n"
   ]
  },
  {
   "cell_type": "code",
   "execution_count": null,
   "metadata": {
    "id": "BIbzMEYGwAS7"
   },
   "outputs": [],
   "source": [
    "import gensim\n",
    "from gensim.models import Word2Vec\n",
    "\n",
    "# fit to skipgram model\n",
    "model_skipgram = gensim.models.Word2Vec(filtered_train, min_count = 3, vector_size = 50, window = 5, sg=1)"
   ]
  },
  {
   "cell_type": "code",
   "execution_count": null,
   "metadata": {
    "id": "kmKqyPb6wBXC"
   },
   "outputs": [],
   "source": [
    "# get the words vector\n",
    "def get_word_vector(model, word):\n",
    "    try:\n",
    "        return model.wv.get_vector(word)\n",
    "    except KeyError:\n",
    "        return None"
   ]
  },
  {
   "cell_type": "code",
   "execution_count": null,
   "metadata": {
    "id": "mnN3YTXfwE5-"
   },
   "outputs": [],
   "source": [
    "def generate_word_vectors(filtered_tokens, word_vector_model, vector_length=50):\n",
    "    X_vectors = []\n",
    "\n",
    "    # iterate through each list of filtered tokens in the dataset\n",
    "    for tokens in filtered_tokens:\n",
    "        vectorized_tokens = [get_word_vector(word_vector_model, word) for word in tokens]\n",
    "        vectorized_tokens = [vector for vector in vectorized_tokens if vector is not None]\n",
    "\n",
    "        # compute the avg vector\n",
    "        if vectorized_tokens:\n",
    "            average_vector = sum(vectorized_tokens) / len(vectorized_tokens)\n",
    "            X_vectors.append(average_vector)\n",
    "        else:\n",
    "            # if there's no valid vectors, impute with zero vector as a placeholder\n",
    "            X_vectors.append([0] * vector_length)\n",
    "\n",
    "    return X_vectors"
   ]
  },
  {
   "cell_type": "code",
   "execution_count": null,
   "metadata": {
    "id": "dzsZ22sUwJos"
   },
   "outputs": [],
   "source": [
    "# transform token in both train and test into vectors with skipgram model\n",
    "x_train_skipgram = generate_word_vectors(filtered_train, model_skipgram)\n",
    "x_test_skipgram = generate_word_vectors(filtered_test, model_skipgram)"
   ]
  },
  {
   "cell_type": "code",
   "execution_count": null,
   "metadata": {
    "colab": {
     "base_uri": "https://localhost:8080/"
    },
    "id": "2HgrkjljwLt5",
    "outputId": "a4a9dbfa-6812-4a28-fec8-73ac1329436a"
   },
   "outputs": [
    {
     "data": {
      "text/plain": [
       "[array([-0.30402318,  0.19283417,  0.03803872, -0.6530323 ,  0.05904849,\n",
       "        -0.11689132,  0.42930403,  0.34116518, -0.74322194, -0.5314646 ,\n",
       "         0.13015212, -0.30071893, -0.02745783,  0.19396354, -0.34333628,\n",
       "         0.32798246,  0.29628766,  0.16818918, -0.5398763 , -0.5073331 ,\n",
       "        -0.12192332,  0.03315916,  0.3613829 , -0.22716221, -0.4248043 ,\n",
       "         0.07425211, -0.10366955, -0.03237503, -0.1808582 ,  0.1456697 ,\n",
       "        -0.40589768, -0.21496604, -0.2832404 ,  0.3543915 , -0.34663436,\n",
       "         0.4347138 ,  0.07000694, -0.08190543,  0.05967326, -0.56738955,\n",
       "         0.20207798, -0.31158137,  0.11942665,  0.37575522,  0.49710125,\n",
       "         0.383491  ,  0.35992053, -0.49217024,  0.2984871 ,  0.33125547],\n",
       "       dtype=float32),\n",
       " array([-0.13585031,  0.02326652, -0.22734728, -0.2621607 , -0.05637735,\n",
       "        -0.11407407,  0.21013193,  0.1709887 , -0.6570419 , -0.18772905,\n",
       "        -0.03013478, -0.37101194, -0.1088875 ,  0.1182986 , -0.38482648,\n",
       "         0.01815462,  0.3144866 , -0.11189158, -0.7200169 , -0.16663794,\n",
       "        -0.16066396,  0.2339872 ,  0.62483543, -0.10543523,  0.10425518,\n",
       "         0.03778384, -0.01564309,  0.0793018 , -0.57750565, -0.22092149,\n",
       "        -0.1487062 , -0.01003136, -0.22674434,  0.16333099, -0.32277533,\n",
       "         0.37718326, -0.18478166, -0.15930565, -0.04627589, -0.72327036,\n",
       "         0.2607792 , -0.10671721,  0.20479974,  0.06300425,  0.49314117,\n",
       "         0.1829376 , -0.14682874, -0.11546324,  0.16533001,  0.04255579],\n",
       "       dtype=float32)]"
      ]
     },
     "execution_count": 32,
     "metadata": {},
     "output_type": "execute_result"
    }
   ],
   "source": [
    "x_train_skipgram[0:2]"
   ]
  },
  {
   "cell_type": "code",
   "execution_count": null,
   "metadata": {
    "id": "E580-V05wNhc"
   },
   "outputs": [],
   "source": [
    "# predict with svm and rf model\n",
    "svm_model2 = svm.LinearSVC(random_state=42)\n",
    "svm_model2.fit(x_train_skipgram, y_train)\n",
    "svm_notuning2 = svm_model2.predict(x_test_skipgram)\n",
    "\n",
    "rf_model2 = RandomForestClassifier(random_state=42)\n",
    "rf_model2.fit(x_train_skipgram, y_train)\n",
    "rf_notuning2 = rf_model2.predict(x_test_skipgram)"
   ]
  },
  {
   "cell_type": "code",
   "execution_count": null,
   "metadata": {
    "colab": {
     "base_uri": "https://localhost:8080/"
    },
    "id": "QtNmmbOK8Ppv",
    "outputId": "819d59a8-91f1-4498-9aab-e54b3f7efe24"
   },
   "outputs": [
    {
     "name": "stdout",
     "output_type": "stream",
     "text": [
      "\n",
      "--------------------Word2Vec Before Tuning:--------------------\n",
      "\n",
      "\n",
      "Classification Report SVM:\n",
      "\n",
      "                        precision    recall  f1-score   support\n",
      "\n",
      "           Electronics       0.97      0.91      0.94       593\n",
      "Clothing & Accessories       0.96      0.98      0.97       438\n",
      "                 Books       0.93      0.91      0.92       523\n",
      "             Household       0.92      0.96      0.94       968\n",
      "\n",
      "              accuracy                           0.94      2522\n",
      "             macro avg       0.95      0.94      0.94      2522\n",
      "          weighted avg       0.94      0.94      0.94      2522\n",
      "\n",
      "\n",
      "Classification Report Random Forest:\n",
      "\n",
      "                        precision    recall  f1-score   support\n",
      "\n",
      "           Electronics       0.98      0.94      0.96       593\n",
      "Clothing & Accessories       0.98      0.98      0.98       438\n",
      "                 Books       0.95      0.95      0.95       523\n",
      "             Household       0.94      0.97      0.96       968\n",
      "\n",
      "              accuracy                           0.96      2522\n",
      "             macro avg       0.96      0.96      0.96      2522\n",
      "          weighted avg       0.96      0.96      0.96      2522\n",
      "\n"
     ]
    }
   ],
   "source": [
    "print('\\n--------------------Word2Vec Before Tuning:--------------------\\n')\n",
    "\n",
    "print('\\nClassification Report SVM:\\n')\n",
    "print(classification_report(y_test, svm_notuning2, target_names = ['Electronics', 'Clothing & Accessories', 'Books', 'Household']))\n",
    "\n",
    "print('\\nClassification Report Random Forest:\\n')\n",
    "print(classification_report(y_test, rf_notuning2, target_names = ['Electronics', 'Clothing & Accessories', 'Books', 'Household']))"
   ]
  },
  {
   "cell_type": "markdown",
   "metadata": {
    "id": "DZxz22lAQbE3"
   },
   "source": [
    "Jika dilihat pada hasil di atas, model RF memiiki kinerja lebih baik dibandingkan SVM jika menggunakan vectorization word2vec-skipgram. Bahkan hampir pada seluruh kelas output, model RF memiliki nilai precision, recall, dan F1 yang lebih tinggi.\n",
    "> pada SVM terdapat kelas dengan nilai precision yang tinggi, tetapi memiliki nilai recall yang rendah -> kurang harmonis dalam memprediksi output, adanya data yang terlewat.\n",
    "\n",
    "Secara umum, model RF memiliki kinerja yang lebih baik dan stabil."
   ]
  },
  {
   "cell_type": "code",
   "execution_count": null,
   "metadata": {
    "colab": {
     "base_uri": "https://localhost:8080/"
    },
    "id": "Pd8s3Y_MwVsn",
    "outputId": "85413921-5829-4afd-c2ed-32a1a0e217c7"
   },
   "outputs": [
    {
     "name": "stdout",
     "output_type": "stream",
     "text": [
      "Fitting 5 folds for each of 150 candidates, totalling 750 fits\n",
      "Best Parameters: {'C': 100, 'max_iter': 1000, 'penalty': 'l1', 'tol': 0.01}\n"
     ]
    }
   ],
   "source": [
    "svm_model2 = svm.LinearSVC(random_state=42, max_iter=10000)\n",
    "\n",
    "# define parameters grid\n",
    "param_grid = {\n",
    "    'C': [0.01, 0.1, 1, 10, 100],\n",
    "    'penalty': ['l1', 'l2'],\n",
    "    'max_iter': [1000, 2000, 3000, 5000, 10000],\n",
    "    'tol': [1e-4, 1e-3, 1e-2]\n",
    "}\n",
    "\n",
    "# search the best parameters\n",
    "grid_search = GridSearchCV(svm_model2, param_grid, cv=5, n_jobs=-1, verbose=1)\n",
    "grid_search.fit(x_train_skipgram, y_train)\n",
    "best_model = grid_search.best_estimator_\n",
    "best_params = grid_search.best_params_\n",
    "\n",
    "print(\"Best Parameters:\", best_params)"
   ]
  },
  {
   "cell_type": "code",
   "execution_count": null,
   "metadata": {
    "id": "XclPBn6_9PQJ"
   },
   "outputs": [],
   "source": [
    "svm_model2 = svm.LinearSVC(random_state=42, max_iter=1000, C=100, penalty=\"l1\", tol=0.001)\n",
    "svm_model2.fit(x_train_skipgram, y_train)\n",
    "\n",
    "# predict on test data\n",
    "test_svm2 = svm_model2.predict(x_test_skipgram)"
   ]
  },
  {
   "cell_type": "markdown",
   "metadata": {
    "id": "cQQJNZcJyF9d"
   },
   "source": [
    "> Random Forest"
   ]
  },
  {
   "cell_type": "code",
   "execution_count": null,
   "metadata": {
    "colab": {
     "base_uri": "https://localhost:8080/"
    },
    "id": "eOTOB8uWyFPk",
    "outputId": "b6d5bc6f-6de4-400e-bd2c-e51509de2ba1"
   },
   "outputs": [
    {
     "name": "stdout",
     "output_type": "stream",
     "text": [
      "Fitting 5 folds for each of 48 candidates, totalling 240 fits\n"
     ]
    },
    {
     "name": "stderr",
     "output_type": "stream",
     "text": [
      "/usr/local/lib/python3.10/dist-packages/numpy/ma/core.py:2820: RuntimeWarning: invalid value encountered in cast\n",
      "  _data = np.array(data, dtype=dtype, copy=copy,\n"
     ]
    },
    {
     "name": "stdout",
     "output_type": "stream",
     "text": [
      "Best Parameters: {'criterion': 'gini', 'max_depth': None, 'max_features': 'sqrt', 'n_estimators': 500}\n"
     ]
    }
   ],
   "source": [
    "rf = RandomForestClassifier(random_state= 42)\n",
    "\n",
    "# define parameters grid\n",
    "param_grid = {\n",
    "    'n_estimators': [100, 200, 500],\n",
    "    'max_features': ['sqrt', 'log2'],\n",
    "    'max_depth': [None, 10, 20, 30],\n",
    "    'criterion': ['gini', 'entropy'],\n",
    "}\n",
    "\n",
    "# search the best parameters\n",
    "grid_search = GridSearchCV(rf, param_grid, cv=5, n_jobs=-1, verbose=1)\n",
    "grid_search.fit(x_train_skipgram, y_train)\n",
    "best_model = grid_search.best_estimator_\n",
    "best_params = grid_search.best_params_\n",
    "\n",
    "print(\"Best Parameters:\", best_params)"
   ]
  },
  {
   "cell_type": "code",
   "execution_count": null,
   "metadata": {
    "id": "HYvM49wD_zSe"
   },
   "outputs": [],
   "source": [
    "rf_model2 = RandomForestClassifier(random_state=42, criterion= 'gini', max_depth=None, max_features='sqrt', n_estimators=500)\n",
    "rf_model2.fit(x_train_skipgram, y_train)\n",
    "\n",
    "# predict on test data\n",
    "test_rf2 = rf_model2.predict(x_test_skipgram)"
   ]
  },
  {
   "cell_type": "code",
   "execution_count": null,
   "metadata": {
    "colab": {
     "base_uri": "https://localhost:8080/"
    },
    "id": "6QxkVyd_GTbS",
    "outputId": "ab728ec2-1227-4ef9-e86c-2140fc42b1b6"
   },
   "outputs": [
    {
     "name": "stdout",
     "output_type": "stream",
     "text": [
      "\n",
      "--------------------Word2Vec After Tuning:--------------------\n",
      "\n",
      "\n",
      "Classification Report SVM Word2Vec:\n",
      "\n",
      "                        precision    recall  f1-score   support\n",
      "\n",
      "           Electronics       0.97      0.91      0.94       593\n",
      "Clothing & Accessories       0.95      0.98      0.97       438\n",
      "                 Books       0.93      0.91      0.92       523\n",
      "             Household       0.93      0.96      0.94       968\n",
      "\n",
      "              accuracy                           0.94      2522\n",
      "             macro avg       0.94      0.94      0.94      2522\n",
      "          weighted avg       0.94      0.94      0.94      2522\n",
      "\n",
      "\n",
      "Classification Random Forest Word2Vec:\n",
      "\n",
      "                        precision    recall  f1-score   support\n",
      "\n",
      "           Electronics       0.98      0.94      0.96       593\n",
      "Clothing & Accessories       0.98      0.98      0.98       438\n",
      "                 Books       0.95      0.95      0.95       523\n",
      "             Household       0.94      0.97      0.96       968\n",
      "\n",
      "              accuracy                           0.96      2522\n",
      "             macro avg       0.96      0.96      0.96      2522\n",
      "          weighted avg       0.96      0.96      0.96      2522\n",
      "\n"
     ]
    }
   ],
   "source": [
    "print('\\n--------------------Word2Vec After Tuning:--------------------\\n')\n",
    "\n",
    "print('\\nClassification Report SVM Word2Vec:\\n')\n",
    "print(classification_report(y_test, test_svm2, target_names = ['Electronics', 'Clothing & Accessories', 'Books', 'Household']))\n",
    "\n",
    "print('\\nClassification Random Forest Word2Vec:\\n')\n",
    "print(classification_report(y_test, test_rf2, target_names = ['Electronics', 'Clothing & Accessories', 'Books', 'Household']))"
   ]
  },
  {
   "cell_type": "markdown",
   "metadata": {
    "id": "hDXnlWknRua_"
   },
   "source": [
    "Untuk hasil setelah tuning, jika dilihat sekilas pada nilai  akurasi, kedua model tidak ada kenaikan signifikan dan tetap mempertahankan kinerja mereka, SVM -> 94% dan RF -> 96%, hasil yang sama didapatkan seperti sebelum dituning.\n",
    "> Tetapi, jika dilihat lebih detail pada model SVM terdapat sedikit penurunan pada kategori 'Clothing & Accessories' di mana nilai precision sebelum tuning -> 96% menjadi 95% setelah di tuning. Menandakan ada lebih banyak data false positive dibandingkan sebelum tuning. Hal ini dapat terjadi karena adanya tuning penalty menggunakan 'l1' dan c = 100 yang mungkin akan meningkatkan kehati-hatian model dalam prediksi data dan menjadikan model lebih selektif, tetapi dapat menyebabkan adanya nilai true posistive yang terlewat dan menyebabkan precision turun."
   ]
  },
  {
   "cell_type": "markdown",
   "metadata": {
    "id": "AdDOROnlYQYm"
   },
   "source": [
    "# 2.c"
   ]
  },
  {
   "cell_type": "markdown",
   "metadata": {
    "id": "Cv5EparsIS-N"
   },
   "source": [
    "# Conclusion:\n",
    "> TF-IDF\n",
    " lebih cocok menggunakan algoritma SVM dikarenakan TF-IDF akan mengukur seberapa penting kata tersebut dengan mengukur jumlah munculnya -> data sparse. Lalu, SVM bekerja dengan mencari batas yang jelas antar kelas dengan fitur yang relevan di mana selaras dengan hasil dari TF-IDF untuk menemukan kata yang penting. Sehingga dari hasil komputasi sebelum dan sesudah tuning konsisten bahwa model SVM bekerja lebih baik dengan tingkat akurasi sebesar 97%.\n",
    "\n",
    " > Word2Vec - skipgram\n",
    " lebih kompatibel dengan algoritma RF, hal ini dikarenakan word2vec akan menyimpan dalam bentuk vektor yang berisi hubungan antar kata. Lalu, RF bekerja dengan membuat pohon keputusan dan dapat mengelola data dari hasil word2vec lebih maksimal dibandigkan dengan SVM karena RF akan menggunakan hubungan antar kata dalam vektor word2vec dan mengenali pola yang lebih kompleks, sehingga kombinasi keduanya dapat memberikan hasil yang lebih optimal, dengan tingkat akurasi sebesar 96%.\n"
   ]
  },
  {
   "cell_type": "code",
   "execution_count": null,
   "metadata": {
    "id": "QooizLeh_WyG"
   },
   "outputs": [],
   "source": []
  }
 ],
 "metadata": {
  "accelerator": "GPU",
  "colab": {
   "gpuType": "L4",
   "provenance": []
  },
  "kernelspec": {
   "display_name": "Python 3",
   "name": "python3"
  },
  "language_info": {
   "name": "python"
  }
 },
 "nbformat": 4,
 "nbformat_minor": 0
}
